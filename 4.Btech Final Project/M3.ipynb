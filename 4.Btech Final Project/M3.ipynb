{
 "cells": [
  {
   "cell_type": "markdown",
   "metadata": {},
   "source": [
    "# LeNet Architecture"
   ]
  },
  {
   "cell_type": "code",
   "execution_count": 1,
   "metadata": {},
   "outputs": [],
   "source": [
    "from tensorflow.keras.callbacks import ModelCheckpoint, ReduceLROnPlateau, EarlyStopping"
   ]
  },
  {
   "cell_type": "code",
   "execution_count": 2,
   "metadata": {},
   "outputs": [],
   "source": [
    "from tensorflow.keras.models import Sequential"
   ]
  },
  {
   "cell_type": "code",
   "execution_count": 3,
   "metadata": {},
   "outputs": [],
   "source": [
    "from tensorflow.keras.layers import Convolution2D"
   ]
  },
  {
   "cell_type": "code",
   "execution_count": 4,
   "metadata": {},
   "outputs": [],
   "source": [
    "from tensorflow.keras.layers import MaxPooling2D"
   ]
  },
  {
   "cell_type": "code",
   "execution_count": 5,
   "metadata": {},
   "outputs": [],
   "source": [
    "from tensorflow.keras.layers import Flatten"
   ]
  },
  {
   "cell_type": "code",
   "execution_count": 6,
   "metadata": {},
   "outputs": [],
   "source": [
    "from tensorflow.keras.layers import Dense"
   ]
  },
  {
   "cell_type": "code",
   "execution_count": 7,
   "metadata": {},
   "outputs": [],
   "source": [
    "import warnings\n",
    "warnings.filterwarnings('ignore')"
   ]
  },
  {
   "cell_type": "code",
   "execution_count": 8,
   "metadata": {},
   "outputs": [],
   "source": [
    "Classifier=Sequential()"
   ]
  },
  {
   "cell_type": "code",
   "execution_count": 9,
   "metadata": {},
   "outputs": [
    {
     "name": "stdout",
     "output_type": "stream",
     "text": [
      "Model: \"sequential\"\n",
      "_________________________________________________________________\n",
      "Layer (type)                 Output Shape              Param #   \n",
      "=================================================================\n",
      "conv2d (Conv2D)              (None, 170, 170, 32)      896       \n",
      "_________________________________________________________________\n",
      "max_pooling2d (MaxPooling2D) (None, 85, 85, 32)        0         \n",
      "_________________________________________________________________\n",
      "conv2d_1 (Conv2D)            (None, 28, 28, 128)       36992     \n",
      "_________________________________________________________________\n",
      "max_pooling2d_1 (MaxPooling2 (None, 14, 14, 128)       0         \n",
      "_________________________________________________________________\n",
      "flatten (Flatten)            (None, 25088)             0         \n",
      "_________________________________________________________________\n",
      "dense (Dense)                (None, 256)               6422784   \n",
      "_________________________________________________________________\n",
      "dense_1 (Dense)              (None, 2)                 514       \n",
      "=================================================================\n",
      "Total params: 6,461,186\n",
      "Trainable params: 6,461,186\n",
      "Non-trainable params: 0\n",
      "_________________________________________________________________\n"
     ]
    }
   ],
   "source": [
    "Classifier.add(Convolution2D(32,3,3,input_shape=(512,512,3),activation='relu'))\n",
    "Classifier.add(MaxPooling2D(pool_size=(2,2)))\n",
    "Classifier.add(Convolution2D(128,3,3,activation='relu'))\n",
    "Classifier.add(MaxPooling2D(pool_size=(2,2)))\n",
    "Classifier.add(Flatten())\n",
    "Classifier.add(Dense(256, activation='relu'))\n",
    "Classifier.add(Dense(2, activation='softmax'))\n",
    "\n",
    "Classifier.compile(optimizer='rmsprop',loss='categorical_crossentropy',metrics=['accuracy'])\n",
    "Classifier.summary()"
   ]
  },
  {
   "cell_type": "code",
   "execution_count": 10,
   "metadata": {},
   "outputs": [],
   "source": [
    "from tensorflow.keras.preprocessing.image import ImageDataGenerator"
   ]
  },
  {
   "cell_type": "code",
   "execution_count": 11,
   "metadata": {},
   "outputs": [],
   "source": [
    "train_datagen=ImageDataGenerator(rescale=1./255,shear_range=0.2,zoom_range=0.2,horizontal_flip=True)"
   ]
  },
  {
   "cell_type": "code",
   "execution_count": 12,
   "metadata": {},
   "outputs": [],
   "source": [
    "test_datagen=ImageDataGenerator(rescale=1./255)"
   ]
  },
  {
   "cell_type": "code",
   "execution_count": 13,
   "metadata": {},
   "outputs": [
    {
     "name": "stdout",
     "output_type": "stream",
     "text": [
      "Found 200 images belonging to 2 classes.\n"
     ]
    }
   ],
   "source": [
    "training_set=train_datagen.flow_from_directory('dataset/Train',target_size=(512,512),batch_size=32,class_mode='categorical')"
   ]
  },
  {
   "cell_type": "code",
   "execution_count": 14,
   "metadata": {},
   "outputs": [
    {
     "name": "stdout",
     "output_type": "stream",
     "text": [
      "Found 133 images belonging to 2 classes.\n"
     ]
    }
   ],
   "source": [
    "test_set=test_datagen.flow_from_directory('dataset/Test',target_size=(512,512),batch_size=32,class_mode='categorical')"
   ]
  },
  {
   "cell_type": "code",
   "execution_count": 15,
   "metadata": {},
   "outputs": [],
   "source": [
    "from IPython.display import display"
   ]
  },
  {
   "cell_type": "code",
   "execution_count": 16,
   "metadata": {},
   "outputs": [],
   "source": [
    "img_dims = 150\n",
    "epochs = 50\n",
    "batch_size = 32"
   ]
  },
  {
   "cell_type": "code",
   "execution_count": 17,
   "metadata": {},
   "outputs": [
    {
     "name": "stdout",
     "output_type": "stream",
     "text": [
      "WARNING:tensorflow:From <ipython-input-17-b2ea176dbe09>:1: Model.fit_generator (from tensorflow.python.keras.engine.training) is deprecated and will be removed in a future version.\n",
      "Instructions for updating:\n",
      "Please use Model.fit, which supports generators.\n",
      "Epoch 1/50\n",
      "6/6 [==============================] - 10s 2s/step - loss: 1.5811 - accuracy: 0.4643 - val_loss: 0.6372 - val_accuracy: 0.7031\n",
      "Epoch 2/50\n",
      "6/6 [==============================] - 12s 2s/step - loss: 0.6686 - accuracy: 0.6071 - val_loss: 0.5176 - val_accuracy: 0.8047\n",
      "Epoch 3/50\n",
      "6/6 [==============================] - 10s 2s/step - loss: 0.6973 - accuracy: 0.6369 - val_loss: 0.6071 - val_accuracy: 0.7188\n",
      "Epoch 4/50\n",
      "6/6 [==============================] - 10s 2s/step - loss: 0.6880 - accuracy: 0.6131 - val_loss: 0.5617 - val_accuracy: 0.6797\n",
      "Epoch 5/50\n",
      "6/6 [==============================] - 10s 2s/step - loss: 0.6680 - accuracy: 0.6190 - val_loss: 0.4409 - val_accuracy: 0.8750\n",
      "Epoch 6/50\n",
      "6/6 [==============================] - 10s 2s/step - loss: 0.6931 - accuracy: 0.6607 - val_loss: 0.5677 - val_accuracy: 0.7109\n",
      "Epoch 7/50\n",
      "6/6 [==============================] - 10s 2s/step - loss: 0.5834 - accuracy: 0.6905 - val_loss: 0.4420 - val_accuracy: 0.7734\n",
      "Epoch 8/50\n",
      "6/6 [==============================] - 10s 2s/step - loss: 0.5934 - accuracy: 0.6786 - val_loss: 0.3613 - val_accuracy: 0.8516\n",
      "Epoch 9/50\n",
      "6/6 [==============================] - 10s 2s/step - loss: 0.5717 - accuracy: 0.6726 - val_loss: 0.4936 - val_accuracy: 0.8203\n",
      "Epoch 10/50\n",
      "6/6 [==============================] - 10s 2s/step - loss: 0.5915 - accuracy: 0.6726 - val_loss: 0.2955 - val_accuracy: 0.9141\n",
      "Epoch 11/50\n",
      "6/6 [==============================] - 11s 2s/step - loss: 0.5594 - accuracy: 0.6845 - val_loss: 0.2536 - val_accuracy: 0.9375\n",
      "Epoch 12/50\n",
      "6/6 [==============================] - 11s 2s/step - loss: 0.6030 - accuracy: 0.6429 - val_loss: 0.4005 - val_accuracy: 0.8516\n",
      "Epoch 13/50\n",
      "6/6 [==============================] - 10s 2s/step - loss: 0.5708 - accuracy: 0.6905 - val_loss: 0.2206 - val_accuracy: 0.9219\n",
      "Epoch 14/50\n",
      "6/6 [==============================] - 10s 2s/step - loss: 0.6009 - accuracy: 0.7083 - val_loss: 0.3896 - val_accuracy: 0.8594\n",
      "Epoch 15/50\n",
      "6/6 [==============================] - 10s 2s/step - loss: 0.5596 - accuracy: 0.6964 - val_loss: 0.3012 - val_accuracy: 0.9062\n",
      "Epoch 16/50\n",
      "6/6 [==============================] - 10s 2s/step - loss: 0.5766 - accuracy: 0.7024 - val_loss: 0.3539 - val_accuracy: 0.8594\n",
      "Epoch 17/50\n",
      "6/6 [==============================] - 10s 2s/step - loss: 0.5344 - accuracy: 0.7619 - val_loss: 0.2533 - val_accuracy: 0.9219\n",
      "Epoch 18/50\n",
      "6/6 [==============================] - 10s 2s/step - loss: 0.5408 - accuracy: 0.6845 - val_loss: 0.3360 - val_accuracy: 0.8750\n",
      "Epoch 19/50\n",
      "6/6 [==============================] - 9s 2s/step - loss: 0.5055 - accuracy: 0.7560 - val_loss: 0.6699 - val_accuracy: 0.6562\n",
      "Epoch 20/50\n",
      "6/6 [==============================] - 10s 2s/step - loss: 0.5346 - accuracy: 0.7143 - val_loss: 0.2977 - val_accuracy: 0.8516\n",
      "Epoch 21/50\n",
      "6/6 [==============================] - 11s 2s/step - loss: 0.5345 - accuracy: 0.7604 - val_loss: 0.2740 - val_accuracy: 0.8594\n",
      "Epoch 22/50\n",
      "6/6 [==============================] - 10s 2s/step - loss: 0.5637 - accuracy: 0.7143 - val_loss: 0.2706 - val_accuracy: 0.9062\n",
      "Epoch 23/50\n",
      "6/6 [==============================] - 10s 2s/step - loss: 0.5655 - accuracy: 0.7083 - val_loss: 0.3754 - val_accuracy: 0.8203\n",
      "Epoch 24/50\n",
      "6/6 [==============================] - 10s 2s/step - loss: 0.5343 - accuracy: 0.7500 - val_loss: 0.3372 - val_accuracy: 0.7969\n",
      "Epoch 25/50\n",
      "6/6 [==============================] - 10s 2s/step - loss: 0.5210 - accuracy: 0.7738 - val_loss: 0.4472 - val_accuracy: 0.7812\n",
      "Epoch 26/50\n",
      "6/6 [==============================] - 10s 2s/step - loss: 0.4959 - accuracy: 0.7560 - val_loss: 0.2779 - val_accuracy: 0.8984\n",
      "Epoch 27/50\n",
      "6/6 [==============================] - 10s 2s/step - loss: 0.5670 - accuracy: 0.7321 - val_loss: 0.3120 - val_accuracy: 0.8906\n",
      "Epoch 28/50\n",
      "6/6 [==============================] - 10s 2s/step - loss: 0.5621 - accuracy: 0.7024 - val_loss: 0.1883 - val_accuracy: 0.9141\n",
      "Epoch 29/50\n",
      "6/6 [==============================] - 10s 2s/step - loss: 0.5293 - accuracy: 0.7262 - val_loss: 0.2791 - val_accuracy: 0.8672\n",
      "Epoch 30/50\n",
      "6/6 [==============================] - 10s 2s/step - loss: 0.4790 - accuracy: 0.7440 - val_loss: 0.5219 - val_accuracy: 0.8594\n",
      "Epoch 31/50\n",
      "6/6 [==============================] - 11s 2s/step - loss: 0.5587 - accuracy: 0.7143 - val_loss: 0.2839 - val_accuracy: 0.8359\n",
      "Epoch 32/50\n",
      "6/6 [==============================] - 10s 2s/step - loss: 0.4728 - accuracy: 0.7619 - val_loss: 0.2570 - val_accuracy: 0.8750\n",
      "Epoch 33/50\n",
      "6/6 [==============================] - 11s 2s/step - loss: 0.5067 - accuracy: 0.7381 - val_loss: 0.2581 - val_accuracy: 0.8672\n",
      "Epoch 34/50\n",
      "6/6 [==============================] - 10s 2s/step - loss: 0.5304 - accuracy: 0.7738 - val_loss: 0.4221 - val_accuracy: 0.7422\n",
      "Epoch 35/50\n",
      "6/6 [==============================] - 11s 2s/step - loss: 0.4459 - accuracy: 0.8036 - val_loss: 0.3368 - val_accuracy: 0.8281\n",
      "Epoch 36/50\n",
      "6/6 [==============================] - 10s 2s/step - loss: 0.5501 - accuracy: 0.7560 - val_loss: 0.2858 - val_accuracy: 0.8672\n",
      "Epoch 37/50\n",
      "6/6 [==============================] - 11s 2s/step - loss: 0.5074 - accuracy: 0.7381 - val_loss: 0.2974 - val_accuracy: 0.8828\n",
      "Epoch 38/50\n",
      "6/6 [==============================] - 10s 2s/step - loss: 0.4480 - accuracy: 0.7738 - val_loss: 0.3285 - val_accuracy: 0.8672\n",
      "Epoch 39/50\n",
      "6/6 [==============================] - 10s 2s/step - loss: 0.4462 - accuracy: 0.8095 - val_loss: 0.5774 - val_accuracy: 0.8047\n",
      "Epoch 40/50\n",
      "6/6 [==============================] - 10s 2s/step - loss: 0.4627 - accuracy: 0.7738 - val_loss: 0.2451 - val_accuracy: 0.8672\n",
      "Epoch 41/50\n",
      "6/6 [==============================] - 12s 2s/step - loss: 0.4277 - accuracy: 0.8125 - val_loss: 0.3220 - val_accuracy: 0.8516\n",
      "Epoch 42/50\n",
      "6/6 [==============================] - 11s 2s/step - loss: 0.3774 - accuracy: 0.8333 - val_loss: 0.2214 - val_accuracy: 0.9062\n",
      "Epoch 43/50\n",
      "6/6 [==============================] - 10s 2s/step - loss: 0.4854 - accuracy: 0.7679 - val_loss: 0.3500 - val_accuracy: 0.8203\n",
      "Epoch 44/50\n",
      "6/6 [==============================] - 11s 2s/step - loss: 0.4231 - accuracy: 0.8073 - val_loss: 0.6256 - val_accuracy: 0.7656\n",
      "Epoch 45/50\n",
      "6/6 [==============================] - 11s 2s/step - loss: 0.4737 - accuracy: 0.7560 - val_loss: 0.2743 - val_accuracy: 0.8594\n",
      "Epoch 46/50\n",
      "6/6 [==============================] - 11s 2s/step - loss: 0.4125 - accuracy: 0.8125 - val_loss: 0.3405 - val_accuracy: 0.8281\n",
      "Epoch 47/50\n",
      "6/6 [==============================] - 10s 2s/step - loss: 0.4432 - accuracy: 0.8155 - val_loss: 0.4117 - val_accuracy: 0.8359\n",
      "Epoch 48/50\n",
      "6/6 [==============================] - 11s 2s/step - loss: 0.4060 - accuracy: 0.7865 - val_loss: 0.2132 - val_accuracy: 0.9062\n",
      "Epoch 49/50\n",
      "6/6 [==============================] - 11s 2s/step - loss: 0.4338 - accuracy: 0.7976 - val_loss: 0.4151 - val_accuracy: 0.8359\n",
      "Epoch 50/50\n",
      "6/6 [==============================] - 10s 2s/step - loss: 0.4203 - accuracy: 0.7976 - val_loss: 0.3996 - val_accuracy: 0.8516\n"
     ]
    },
    {
     "data": {
      "text/plain": [
       "<tensorflow.python.keras.callbacks.History at 0x169f2b31fa0>"
      ]
     },
     "execution_count": 17,
     "metadata": {},
     "output_type": "execute_result"
    }
   ],
   "source": [
    "Classifier.fit_generator( training_set, steps_per_epoch=training_set.samples // batch_size, \n",
    "           epochs=epochs, \n",
    "           validation_data=test_set,validation_steps=test_set.samples // batch_size)"
   ]
  },
  {
   "cell_type": "code",
   "execution_count": 18,
   "metadata": {},
   "outputs": [],
   "source": [
    "import h5py"
   ]
  },
  {
   "cell_type": "code",
   "execution_count": 19,
   "metadata": {},
   "outputs": [],
   "source": [
    "Classifier.save('diabetics.h5')\n",
    "       "
   ]
  },
  {
   "cell_type": "code",
   "execution_count": 20,
   "metadata": {},
   "outputs": [],
   "source": [
    "from keras.models import load_model"
   ]
  },
  {
   "cell_type": "code",
   "execution_count": 21,
   "metadata": {},
   "outputs": [],
   "source": [
    "model=load_model('diabetics.h5')"
   ]
  },
  {
   "cell_type": "code",
   "execution_count": 22,
   "metadata": {},
   "outputs": [],
   "source": [
    "import numpy as np"
   ]
  },
  {
   "cell_type": "code",
   "execution_count": 23,
   "metadata": {},
   "outputs": [],
   "source": [
    "from tensorflow.keras.preprocessing import image\n",
    "test_image=image.load_img('No_DR.jpeg',target_size=(512,512))"
   ]
  },
  {
   "cell_type": "code",
   "execution_count": 24,
   "metadata": {},
   "outputs": [
    {
     "data": {
      "image/png": "[encoded data removed]",
      "text/plain": [
       "<Figure size 432x288 with 1 Axes>"
      ]
     },
     "metadata": {
      "needs_background": "light"
     },
     "output_type": "display_data"
    }
   ],
   "source": [
    "import matplotlib.pyplot as plt\n",
    "img = plt.imshow(test_image)"
   ]
  },
  {
   "cell_type": "code",
   "execution_count": 25,
   "metadata": {},
   "outputs": [],
   "source": [
    "test_image=image.img_to_array(test_image)"
   ]
  },
  {
   "cell_type": "code",
   "execution_count": 26,
   "metadata": {},
   "outputs": [],
   "source": [
    "test_image=np.expand_dims(test_image,axis=0)"
   ]
  },
  {
   "cell_type": "code",
   "execution_count": 27,
   "metadata": {},
   "outputs": [],
   "source": [
    "result=model.predict(test_image)"
   ]
  },
  {
   "cell_type": "code",
   "execution_count": 28,
   "metadata": {},
   "outputs": [
    {
     "data": {
      "text/plain": [
       "array([[1., 0.]], dtype=float32)"
      ]
     },
     "execution_count": 28,
     "metadata": {},
     "output_type": "execute_result"
    }
   ],
   "source": [
    "result"
   ]
  },
  {
   "cell_type": "code",
   "execution_count": 29,
   "metadata": {},
   "outputs": [],
   "source": [
    "prediction = result[0]"
   ]
  },
  {
   "cell_type": "code",
   "execution_count": 30,
   "metadata": {},
   "outputs": [],
   "source": [
    "classes=training_set.class_indices"
   ]
  },
  {
   "cell_type": "code",
   "execution_count": 31,
   "metadata": {},
   "outputs": [
    {
     "data": {
      "text/plain": [
       "{'No_DR': 0, 'Severe': 1}"
      ]
     },
     "execution_count": 31,
     "metadata": {},
     "output_type": "execute_result"
    }
   ],
   "source": [
    "classes"
   ]
  },
  {
   "cell_type": "code",
   "execution_count": 32,
   "metadata": {},
   "outputs": [],
   "source": [
    "prediction=list(prediction)"
   ]
  },
  {
   "cell_type": "code",
   "execution_count": 33,
   "metadata": {},
   "outputs": [
    {
     "data": {
      "text/plain": [
       "[1.0, 0.0]"
      ]
     },
     "execution_count": 33,
     "metadata": {},
     "output_type": "execute_result"
    }
   ],
   "source": [
    "prediction"
   ]
  },
  {
   "cell_type": "code",
   "execution_count": 34,
   "metadata": {},
   "outputs": [],
   "source": [
    "classes=['No_DR','Severe']"
   ]
  },
  {
   "cell_type": "code",
   "execution_count": 35,
   "metadata": {},
   "outputs": [],
   "source": [
    "output=zip(classes,prediction)"
   ]
  },
  {
   "cell_type": "code",
   "execution_count": 36,
   "metadata": {},
   "outputs": [],
   "source": [
    "output=dict(output)"
   ]
  },
  {
   "cell_type": "code",
   "execution_count": 37,
   "metadata": {},
   "outputs": [
    {
     "data": {
      "text/plain": [
       "{'No_DR': 1.0, 'Severe': 0.0}"
      ]
     },
     "execution_count": 37,
     "metadata": {},
     "output_type": "execute_result"
    }
   ],
   "source": [
    "output"
   ]
  },
  {
   "cell_type": "code",
   "execution_count": 38,
   "metadata": {},
   "outputs": [
    {
     "name": "stdout",
     "output_type": "stream",
     "text": [
      "No_DR\n"
     ]
    }
   ],
   "source": [
    "if output['No_DR']==1.0 :\n",
    "    print('No_DR')\n",
    "elif output['Severe']==1.0:\n",
    "    print(\"Severe\")"
   ]
  },
  {
   "cell_type": "code",
   "execution_count": null,
   "metadata": {},
   "outputs": [],
   "source": []
  },
  {
   "cell_type": "code",
   "execution_count": null,
   "metadata": {},
   "outputs": [],
   "source": []
  },
  {
   "cell_type": "code",
   "execution_count": null,
   "metadata": {},
   "outputs": [],
   "source": []
  }
 ],
 "metadata": {
  "kernelspec": {
   "display_name": "Python 3",
   "language": "python",
   "name": "python3"
  },
  "language_info": {
   "codemirror_mode": {
    "name": "ipython",
    "version": 3
   },
   "file_extension": ".py",
   "mimetype": "text/x-python",
   "name": "python",
   "nbconvert_exporter": "python",
   "pygments_lexer": "ipython3",
   "version": "3.8.8"
  }
 },
 "nbformat": 4,
 "nbformat_minor": 2
}
